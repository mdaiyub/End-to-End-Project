{
  "nbformat": 4,
  "nbformat_minor": 0,
  "metadata": {
    "colab": {
      "provenance": []
    },
    "kernelspec": {
      "name": "python3",
      "display_name": "Python 3"
    },
    "language_info": {
      "name": "python"
    },
    "accelerator": "GPU",
    "gpuClass": "standard"
  },
  "cells": [
    {
      "cell_type": "markdown",
      "source": [
        "# Required Librarires"
      ],
      "metadata": {
        "id": "uzRKzZreiogS"
      }
    },
    {
      "cell_type": "code",
      "execution_count": null,
      "metadata": {
        "colab": {
          "base_uri": "https://localhost:8080/",
          "height": 35
        },
        "id": "h-Yysfj4Ryr2",
        "outputId": "c3589e87-6370-4aff-d882-9aa9bb31b1b8"
      },
      "outputs": [
        {
          "output_type": "execute_result",
          "data": {
            "text/plain": [
              "'2.9.2'"
            ],
            "application/vnd.google.colaboratory.intrinsic+json": {
              "type": "string"
            }
          },
          "metadata": {},
          "execution_count": 35
        }
      ],
      "source": [
        "from tensorflow.keras.layers import Input, Lambda, Dense, Flatten\n",
        "from tensorflow.keras.models import Model\n",
        "from tensorflow.keras.applications.vgg16 import VGG16\n",
        "from tensorflow.keras.preprocessing import image\n",
        "from tensorflow.keras.preprocessing.image import ImageDataGenerator, load_img\n",
        "from tensorflow.keras.models import Sequential\n",
        "import numpy as np\n",
        "import keras\n",
        "from glob import glob\n",
        "import matplotlib.pyplot as plt\n",
        "import tensorflow as tf\n",
        "tf.__version__"
      ]
    },
    {
      "cell_type": "markdown",
      "source": [
        "# Data Augmentation"
      ],
      "metadata": {
        "id": "bDfqF5zPiwJ0"
      }
    },
    {
      "cell_type": "code",
      "source": [
        "IMAGE_SIZE = [224, 224]\n",
        "train_path = '/content/drive/MyDrive/Fundus Dataset/train'\n",
        "valid_path = '/content/drive/MyDrive/Fundus Dataset/train'"
      ],
      "metadata": {
        "id": "CTSWoTtjrEFR"
      },
      "execution_count": null,
      "outputs": []
    },
    {
      "cell_type": "code",
      "source": [
        "train_datagen = ImageDataGenerator(rescale = 1./255,\n",
        "                                  shear_range = 0.2,\n",
        "                                  zoom_range = 0.2,\n",
        "                                  horizontal_flip = True)\n",
        "test_datagen = ImageDataGenerator(rescale = 1./255)"
      ],
      "metadata": {
        "id": "8nqH612Ci0bk"
      },
      "execution_count": null,
      "outputs": []
    },
    {
      "cell_type": "code",
      "source": [
        "training_set = train_datagen.flow_from_directory('/content/drive/MyDrive/Fundus Dataset/train',\n",
        "                                                 target_size = (224, 224),\n",
        "                                                 batch_size = 32,\n",
        "                                                 class_mode = 'categorical')"
      ],
      "metadata": {
        "colab": {
          "base_uri": "https://localhost:8080/"
        },
        "id": "cPnjNLltrF68",
        "outputId": "0e39b553-b5cc-4daf-8a7b-4843567fbd89"
      },
      "execution_count": null,
      "outputs": [
        {
          "output_type": "stream",
          "name": "stdout",
          "text": [
            "Found 2820 images belonging to 3 classes.\n"
          ]
        }
      ]
    },
    {
      "cell_type": "code",
      "source": [
        "test_set = test_datagen.flow_from_directory('/content/drive/MyDrive/Fundus Dataset/valid',\n",
        "                                            target_size = (224, 224),\n",
        "                                            batch_size = 32,\n",
        "                                            class_mode = 'categorical')"
      ],
      "metadata": {
        "colab": {
          "base_uri": "https://localhost:8080/"
        },
        "id": "0Qz9dltVsLUg",
        "outputId": "b8ce74b5-8254-4fa9-a857-04dd6bedd2cb"
      },
      "execution_count": null,
      "outputs": [
        {
          "output_type": "stream",
          "name": "stdout",
          "text": [
            "Found 705 images belonging to 3 classes.\n"
          ]
        }
      ]
    },
    {
      "cell_type": "markdown",
      "source": [
        "# Methodology"
      ],
      "metadata": {
        "id": "2IlpL9HKi2L3"
      }
    },
    {
      "cell_type": "code",
      "source": [
        "vgg16 = VGG16(input_shape = IMAGE_SIZE + [3], weights = 'imagenet', include_top = False)"
      ],
      "metadata": {
        "id": "sMqRw_bMi8JJ"
      },
      "execution_count": null,
      "outputs": []
    },
    {
      "cell_type": "code",
      "source": [
        "for layer in vgg16.layers:\n",
        "  layer.trainable = False"
      ],
      "metadata": {
        "id": "W7Zu8mQcnALc"
      },
      "execution_count": null,
      "outputs": []
    },
    {
      "cell_type": "code",
      "source": [
        "folders = glob('/content/drive/MyDrive/Fundus Dataset/train/*')\n",
        "folders"
      ],
      "metadata": {
        "colab": {
          "base_uri": "https://localhost:8080/"
        },
        "id": "bh8NzlfCnDmP",
        "outputId": "a33ef3f0-25f8-4b77-fac3-aca17c32c57a"
      },
      "execution_count": null,
      "outputs": [
        {
          "output_type": "execute_result",
          "data": {
            "text/plain": [
              "['/content/drive/MyDrive/Fundus Dataset/train/diabetes',\n",
              " '/content/drive/MyDrive/Fundus Dataset/train/glaucoma',\n",
              " '/content/drive/MyDrive/Fundus Dataset/train/normal']"
            ]
          },
          "metadata": {},
          "execution_count": 42
        }
      ]
    },
    {
      "cell_type": "code",
      "source": [
        "x = Flatten()(vgg16.output)"
      ],
      "metadata": {
        "id": "vJuqCLjEnSj0"
      },
      "execution_count": null,
      "outputs": []
    },
    {
      "cell_type": "code",
      "source": [
        "prediction = Dense(len(folders), activation = 'softmax')(x)\n",
        "model = Model(inputs = vgg16.input, outputs = prediction)"
      ],
      "metadata": {
        "id": "q5vAhSaHneEN"
      },
      "execution_count": null,
      "outputs": []
    },
    {
      "cell_type": "code",
      "source": [
        "model.summary()"
      ],
      "metadata": {
        "colab": {
          "base_uri": "https://localhost:8080/"
        },
        "id": "QbxrQA9HnzNN",
        "outputId": "ca3c2cf1-9e21-4f90-8ed3-6283b67e61e1"
      },
      "execution_count": null,
      "outputs": [
        {
          "output_type": "stream",
          "name": "stdout",
          "text": [
            "Model: \"model_1\"\n",
            "_________________________________________________________________\n",
            " Layer (type)                Output Shape              Param #   \n",
            "=================================================================\n",
            " input_4 (InputLayer)        [(None, 224, 224, 3)]     0         \n",
            "                                                                 \n",
            " block1_conv1 (Conv2D)       (None, 224, 224, 64)      1792      \n",
            "                                                                 \n",
            " block1_conv2 (Conv2D)       (None, 224, 224, 64)      36928     \n",
            "                                                                 \n",
            " block1_pool (MaxPooling2D)  (None, 112, 112, 64)      0         \n",
            "                                                                 \n",
            " block2_conv1 (Conv2D)       (None, 112, 112, 128)     73856     \n",
            "                                                                 \n",
            " block2_conv2 (Conv2D)       (None, 112, 112, 128)     147584    \n",
            "                                                                 \n",
            " block2_pool (MaxPooling2D)  (None, 56, 56, 128)       0         \n",
            "                                                                 \n",
            " block3_conv1 (Conv2D)       (None, 56, 56, 256)       295168    \n",
            "                                                                 \n",
            " block3_conv2 (Conv2D)       (None, 56, 56, 256)       590080    \n",
            "                                                                 \n",
            " block3_conv3 (Conv2D)       (None, 56, 56, 256)       590080    \n",
            "                                                                 \n",
            " block3_pool (MaxPooling2D)  (None, 28, 28, 256)       0         \n",
            "                                                                 \n",
            " block4_conv1 (Conv2D)       (None, 28, 28, 512)       1180160   \n",
            "                                                                 \n",
            " block4_conv2 (Conv2D)       (None, 28, 28, 512)       2359808   \n",
            "                                                                 \n",
            " block4_conv3 (Conv2D)       (None, 28, 28, 512)       2359808   \n",
            "                                                                 \n",
            " block4_pool (MaxPooling2D)  (None, 14, 14, 512)       0         \n",
            "                                                                 \n",
            " block5_conv1 (Conv2D)       (None, 14, 14, 512)       2359808   \n",
            "                                                                 \n",
            " block5_conv2 (Conv2D)       (None, 14, 14, 512)       2359808   \n",
            "                                                                 \n",
            " block5_conv3 (Conv2D)       (None, 14, 14, 512)       2359808   \n",
            "                                                                 \n",
            " block5_pool (MaxPooling2D)  (None, 7, 7, 512)         0         \n",
            "                                                                 \n",
            " flatten_1 (Flatten)         (None, 25088)             0         \n",
            "                                                                 \n",
            " dense_1 (Dense)             (None, 3)                 75267     \n",
            "                                                                 \n",
            "=================================================================\n",
            "Total params: 14,789,955\n",
            "Trainable params: 75,267\n",
            "Non-trainable params: 14,714,688\n",
            "_________________________________________________________________\n"
          ]
        }
      ]
    },
    {
      "cell_type": "code",
      "source": [
        "model.compile(optimizer = 'sgd',\n",
        "              loss = 'categorical_crossentropy',\n",
        "              metrics = [keras.metrics.Precision(name = 'precision'),\n",
        "                         keras.metrics.Recall(name = 'Recall'),\n",
        "                         keras.metrics.SpecificityAtSensitivity(0.5, name = 'specificity'),\n",
        "                         keras.metrics.SensitivityAtSpecificity(0.5, name = 'sensicivity'),\n",
        "                         'accuracy'])"
      ],
      "metadata": {
        "id": "PVBpq2YroRc5"
      },
      "execution_count": null,
      "outputs": []
    },
    {
      "cell_type": "code",
      "source": [
        "r = model.fit(\n",
        "    training_set,\n",
        "    validation_data = test_set,\n",
        "    epochs = 30,\n",
        "    steps_per_epoch = len(training_set)\n",
        ")"
      ],
      "metadata": {
        "colab": {
          "base_uri": "https://localhost:8080/"
        },
        "id": "jnFmrFLbso95",
        "outputId": "f301b975-93f3-4c5d-c371-1b9f88b5058d"
      },
      "execution_count": null,
      "outputs": [
        {
          "output_type": "stream",
          "name": "stdout",
          "text": [
            "Epoch 1/30\n",
            "89/89 [==============================] - 2343s 26s/step - loss: 1.0792 - precision: 0.5384 - Recall: 0.4326 - specificity: 0.7723 - sensicivity: 0.7975 - accuracy: 0.5053 - val_loss: 1.3549 - val_precision: 0.4057 - val_Recall: 0.3844 - val_specificity: 0.6255 - val_sensicivity: 0.6567 - val_accuracy: 0.4085\n",
            "Epoch 2/30\n",
            "89/89 [==============================] - 361s 4s/step - loss: 0.8469 - precision: 0.6387 - Recall: 0.5472 - specificity: 0.8684 - sensicivity: 0.8855 - accuracy: 0.6046 - val_loss: 1.0918 - val_precision: 0.5731 - val_Recall: 0.4723 - val_specificity: 0.8035 - val_sensicivity: 0.7348 - val_accuracy: 0.5291\n",
            "Epoch 3/30\n",
            "89/89 [==============================] - 358s 4s/step - loss: 0.8534 - precision: 0.6173 - Recall: 0.5496 - specificity: 0.8596 - sensicivity: 0.9067 - accuracy: 0.5947 - val_loss: 1.2202 - val_precision: 0.4591 - val_Recall: 0.4298 - val_specificity: 0.7064 - val_sensicivity: 0.8043 - val_accuracy: 0.4553\n",
            "Epoch 4/30\n",
            "89/89 [==============================] - 357s 4s/step - loss: 0.7414 - precision: 0.6928 - Recall: 0.6110 - specificity: 0.9055 - sensicivity: 0.9287 - accuracy: 0.6656 - val_loss: 1.2419 - val_precision: 0.5033 - val_Recall: 0.4326 - val_specificity: 0.7454 - val_sensicivity: 0.7986 - val_accuracy: 0.4837\n",
            "Epoch 5/30\n",
            "89/89 [==============================] - 358s 4s/step - loss: 0.7475 - precision: 0.6895 - Recall: 0.6096 - specificity: 0.9099 - sensicivity: 0.9408 - accuracy: 0.6645 - val_loss: 1.5261 - val_precision: 0.5550 - val_Recall: 0.5149 - val_specificity: 0.7979 - val_sensicivity: 0.7759 - val_accuracy: 0.5475\n",
            "Epoch 6/30\n",
            "89/89 [==============================] - 356s 4s/step - loss: 0.7045 - precision: 0.7015 - Recall: 0.6358 - specificity: 0.9163 - sensicivity: 0.9550 - accuracy: 0.6777 - val_loss: 1.1149 - val_precision: 0.5537 - val_Recall: 0.5121 - val_specificity: 0.7965 - val_sensicivity: 0.8667 - val_accuracy: 0.5390\n",
            "Epoch 7/30\n",
            "89/89 [==============================] - 356s 4s/step - loss: 0.7344 - precision: 0.6756 - Recall: 0.6202 - specificity: 0.9096 - sensicivity: 0.9507 - accuracy: 0.6567 - val_loss: 1.1790 - val_precision: 0.5941 - val_Recall: 0.5461 - val_specificity: 0.8284 - val_sensicivity: 0.8440 - val_accuracy: 0.5872\n",
            "Epoch 8/30\n",
            "89/89 [==============================] - 356s 4s/step - loss: 0.6961 - precision: 0.7028 - Recall: 0.6457 - specificity: 0.9204 - sensicivity: 0.9550 - accuracy: 0.6837 - val_loss: 1.3735 - val_precision: 0.4774 - val_Recall: 0.4496 - val_specificity: 0.7170 - val_sensicivity: 0.8525 - val_accuracy: 0.4667\n",
            "Epoch 9/30\n",
            "89/89 [==============================] - 359s 4s/step - loss: 0.6441 - precision: 0.7289 - Recall: 0.6645 - specificity: 0.9363 - sensicivity: 0.9706 - accuracy: 0.7050 - val_loss: 0.9386 - val_precision: 0.5506 - val_Recall: 0.5248 - val_specificity: 0.7950 - val_sensicivity: 0.9433 - val_accuracy: 0.5418\n",
            "Epoch 10/30\n",
            "89/89 [==============================] - 360s 4s/step - loss: 0.6272 - precision: 0.7343 - Recall: 0.6801 - specificity: 0.9441 - sensicivity: 0.9727 - accuracy: 0.7131 - val_loss: 1.9091 - val_precision: 0.5565 - val_Recall: 0.5376 - val_specificity: 0.8021 - val_sensicivity: 0.7475 - val_accuracy: 0.5504\n",
            "Epoch 11/30\n",
            "89/89 [==============================] - 360s 4s/step - loss: 0.7025 - precision: 0.7203 - Recall: 0.6695 - specificity: 0.9301 - sensicivity: 0.9521 - accuracy: 0.6989 - val_loss: 1.0395 - val_precision: 0.6540 - val_Recall: 0.6113 - val_specificity: 0.8986 - val_sensicivity: 0.8610 - val_accuracy: 0.6298\n",
            "Epoch 12/30\n",
            "89/89 [==============================] - 360s 4s/step - loss: 0.6921 - precision: 0.7067 - Recall: 0.6621 - specificity: 0.9310 - sensicivity: 0.9603 - accuracy: 0.6876 - val_loss: 1.1378 - val_precision: 0.6461 - val_Recall: 0.6085 - val_specificity: 0.9064 - val_sensicivity: 0.8482 - val_accuracy: 0.6255\n",
            "Epoch 13/30\n",
            "89/89 [==============================] - 357s 4s/step - loss: 0.5733 - precision: 0.7594 - Recall: 0.7050 - specificity: 0.9583 - sensicivity: 0.9844 - accuracy: 0.7394 - val_loss: 1.0109 - val_precision: 0.5409 - val_Recall: 0.5163 - val_specificity: 0.7908 - val_sensicivity: 0.9404 - val_accuracy: 0.5319\n",
            "Epoch 14/30\n",
            "89/89 [==============================] - 383s 4s/step - loss: 0.5958 - precision: 0.7478 - Recall: 0.6982 - specificity: 0.9528 - sensicivity: 0.9801 - accuracy: 0.7298 - val_loss: 0.8028 - val_precision: 0.7031 - val_Recall: 0.6652 - val_specificity: 0.9213 - val_sensicivity: 0.9248 - val_accuracy: 0.6809\n",
            "Epoch 15/30\n",
            "89/89 [==============================] - 358s 4s/step - loss: 0.6311 - precision: 0.7318 - Recall: 0.6879 - specificity: 0.9452 - sensicivity: 0.9745 - accuracy: 0.7163 - val_loss: 0.7084 - val_precision: 0.6949 - val_Recall: 0.6397 - val_specificity: 0.9241 - val_sensicivity: 0.9447 - val_accuracy: 0.6752\n",
            "Epoch 16/30\n",
            "89/89 [==============================] - 356s 4s/step - loss: 0.6558 - precision: 0.7245 - Recall: 0.6844 - specificity: 0.9413 - sensicivity: 0.9723 - accuracy: 0.7131 - val_loss: 0.9047 - val_precision: 0.5988 - val_Recall: 0.5589 - val_specificity: 0.8475 - val_sensicivity: 0.9461 - val_accuracy: 0.5986\n",
            "Epoch 17/30\n",
            "89/89 [==============================] - 358s 4s/step - loss: 0.5998 - precision: 0.7537 - Recall: 0.7096 - specificity: 0.9559 - sensicivity: 0.9755 - accuracy: 0.7362 - val_loss: 0.9614 - val_precision: 0.5629 - val_Recall: 0.5333 - val_specificity: 0.8156 - val_sensicivity: 0.9504 - val_accuracy: 0.5546\n",
            "Epoch 18/30\n",
            "89/89 [==============================] - 356s 4s/step - loss: 0.5929 - precision: 0.7395 - Recall: 0.6926 - specificity: 0.9523 - sensicivity: 0.9816 - accuracy: 0.7241 - val_loss: 1.0228 - val_precision: 0.5816 - val_Recall: 0.5461 - val_specificity: 0.8376 - val_sensicivity: 0.9163 - val_accuracy: 0.5688\n",
            "Epoch 19/30\n",
            "89/89 [==============================] - 353s 4s/step - loss: 0.6238 - precision: 0.7338 - Recall: 0.6929 - specificity: 0.9504 - sensicivity: 0.9738 - accuracy: 0.7184 - val_loss: 0.9914 - val_precision: 0.6366 - val_Recall: 0.6014 - val_specificity: 0.8844 - val_sensicivity: 0.9050 - val_accuracy: 0.6270\n",
            "Epoch 20/30\n",
            "89/89 [==============================] - 353s 4s/step - loss: 0.6114 - precision: 0.7382 - Recall: 0.6979 - specificity: 0.9516 - sensicivity: 0.9833 - accuracy: 0.7223 - val_loss: 1.3077 - val_precision: 0.5022 - val_Recall: 0.4922 - val_specificity: 0.7461 - val_sensicivity: 0.9390 - val_accuracy: 0.4965\n",
            "Epoch 21/30\n",
            "89/89 [==============================] - 351s 4s/step - loss: 0.5529 - precision: 0.7596 - Recall: 0.7206 - specificity: 0.9647 - sensicivity: 0.9890 - accuracy: 0.7461 - val_loss: 1.0743 - val_precision: 0.5533 - val_Recall: 0.5305 - val_specificity: 0.8028 - val_sensicivity: 0.9418 - val_accuracy: 0.5433\n",
            "Epoch 22/30\n",
            "89/89 [==============================] - 354s 4s/step - loss: 0.5916 - precision: 0.7513 - Recall: 0.7145 - specificity: 0.9569 - sensicivity: 0.9794 - accuracy: 0.7383 - val_loss: 1.0718 - val_precision: 0.5321 - val_Recall: 0.5177 - val_specificity: 0.7908 - val_sensicivity: 0.9489 - val_accuracy: 0.5291\n",
            "Epoch 23/30\n",
            "89/89 [==============================] - 353s 4s/step - loss: 0.5775 - precision: 0.7582 - Recall: 0.7160 - specificity: 0.9599 - sensicivity: 0.9833 - accuracy: 0.7401 - val_loss: 1.2155 - val_precision: 0.5373 - val_Recall: 0.5206 - val_specificity: 0.7844 - val_sensicivity: 0.9021 - val_accuracy: 0.5319\n",
            "Epoch 24/30\n",
            "89/89 [==============================] - 356s 4s/step - loss: 0.4923 - precision: 0.8025 - Recall: 0.7638 - specificity: 0.9754 - sensicivity: 0.9911 - accuracy: 0.7869 - val_loss: 0.9032 - val_precision: 0.6024 - val_Recall: 0.5759 - val_specificity: 0.8468 - val_sensicivity: 0.9546 - val_accuracy: 0.5972\n",
            "Epoch 25/30\n",
            "89/89 [==============================] - 360s 4s/step - loss: 0.5189 - precision: 0.7762 - Recall: 0.7404 - specificity: 0.9720 - sensicivity: 0.9897 - accuracy: 0.7624 - val_loss: 1.0930 - val_precision: 0.5797 - val_Recall: 0.5674 - val_specificity: 0.8397 - val_sensicivity: 0.9702 - val_accuracy: 0.5830\n",
            "Epoch 26/30\n",
            "67/89 [=====================>........] - ETA: 1:14 - loss: 0.5592 - precision: 0.7579 - Recall: 0.7264 - specificity: 0.9643 - sensicivity: 0.9887 - accuracy: 0.7415"
          ]
        }
      ]
    },
    {
      "cell_type": "markdown",
      "source": [
        "# Evaluation"
      ],
      "metadata": {
        "id": "-tdkSFVei-ux"
      }
    }
  ]
}